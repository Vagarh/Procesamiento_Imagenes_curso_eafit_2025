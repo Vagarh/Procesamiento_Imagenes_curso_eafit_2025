{
  "nbformat": 4,
  "nbformat_minor": 0,
  "metadata": {
    "colab": {
      "provenance": []
    },
    "kernelspec": {
      "name": "python3",
      "display_name": "Python 3"
    },
    "language_info": {
      "name": "python"
    }
  },
  "cells": [
    {
      "cell_type": "code",
      "execution_count": null,
      "metadata": {
        "colab": {
          "base_uri": "https://localhost:8080/"
        },
        "id": "RaSXc7TrV4_S",
        "outputId": "d8771926-17ec-4b82-ae89-e3656f44a657"
      },
      "outputs": [
        {
          "output_type": "stream",
          "name": "stdout",
          "text": [
            "✔ Extraídos 30,868 ficheros dentro de: /content/drive/MyDrive/Procesamiento Imagenes/Taller_3_sistema_recuperacion_texto_imagen/Caltech_Data\n"
          ]
        }
      ],
      "source": [
        "from google.colab import drive\n",
        "import os\n",
        "import tarfile\n",
        "from pathlib import Path\n",
        "\n",
        "def extract_tar(tar_path: str, dest_dir: str) -> None:\n",
        "    \"\"\"\n",
        "    Extrae un archivo .tar, .tar.gz o .tgz en la carpeta destino.\n",
        "\n",
        "    Parámetros\n",
        "    ----------\n",
        "    tar_path : str\n",
        "        Ruta completa al archivo .tar(.gz) que deseas descomprimir.\n",
        "    dest_dir : str\n",
        "        Carpeta donde se extraerán los archivos.\n",
        "    \"\"\"\n",
        "    tar_path  = Path(tar_path).expanduser().resolve()\n",
        "    dest_dir  = Path(dest_dir).expanduser().resolve()\n",
        "\n",
        "    # 1. Verificación de existencia\n",
        "    if not tar_path.is_file():\n",
        "        raise FileNotFoundError(f\"No se encontró el archivo: {tar_path}\")\n",
        "\n",
        "    # 2. Crear carpeta destino\n",
        "    dest_dir.mkdir(parents=True, exist_ok=True)\n",
        "\n",
        "    # 3. Seleccionar modo según extensión\n",
        "    mode = \"r:gz\" if tar_path.suffixes[-2:] in [[\".tar\", \".gz\"], [\".tgz\"]] else \"r:\"\n",
        "\n",
        "    # 4. Extraer\n",
        "    with tarfile.open(tar_path, mode) as tar:\n",
        "        members = tar.getmembers()\n",
        "        tar.extractall(path=dest_dir)\n",
        "\n",
        "    # 5. Resumen\n",
        "    print(f\"✔ Extraídos {len(members):,} ficheros dentro de: {dest_dir}\")\n",
        "\n",
        "TAR_PATH    = \"/content/drive/MyDrive/Procesamiento Imagenes/Taller_3_sistema_recuperacion_texto_imagen/256_ObjectCategories.tar\"\n",
        "EXTRACT_DIR = \"/content/drive/MyDrive/Procesamiento Imagenes/Taller_3_sistema_recuperacion_texto_imagen/Caltech_Data\"\n",
        "\n",
        "extract_tar(TAR_PATH, EXTRACT_DIR)"
      ]
    }
  ]
}